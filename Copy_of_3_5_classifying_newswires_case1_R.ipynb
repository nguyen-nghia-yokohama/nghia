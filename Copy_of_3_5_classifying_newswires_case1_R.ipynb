{
  "nbformat": 4,
  "nbformat_minor": 0,
  "metadata": {
    "kernelspec": {
      "name": "ir",
      "display_name": "R"
    },
    "colab": {
      "name": "Copy of 3.5-classifying-newswires-case1.R.ipynb",
      "provenance": [],
      "collapsed_sections": [],
      "include_colab_link": true
    },
    "accelerator": "GPU"
  },
  "cells": [
    {
      "cell_type": "markdown",
      "metadata": {
        "id": "view-in-github",
        "colab_type": "text"
      },
      "source": [
        "<a href=\"https://colab.research.google.com/github/nguyen-nghia-yokohama/nghia/blob/master/Copy_of_3_5_classifying_newswires_case1_R.ipynb\" target=\"_parent\"><img src=\"https://colab.research.google.com/assets/colab-badge.svg\" alt=\"Open In Colab\"/></a>"
      ]
    },
    {
      "cell_type": "markdown",
      "metadata": {
        "id": "7XIYh1uFDtK_",
        "colab_type": "text"
      },
      "source": [
        "---\n",
        "title: \"Classifying newswires: a multi-class classification example\"\n",
        "output: \n",
        "  html_notebook: \n",
        "    theme: cerulean\n",
        "    highlight: textmate\n",
        "---\n",
        "\n",
        "\n",
        "\n",
        "***\n",
        "\n",
        "This notebook contains the code samples found in Chapter 3, Section 6 of [Deep Learning with R](https://www.manning.com/books/deep-learning-with-r). Note that the original text features far more content, in particular further explanations and figures: in this notebook, you will only find source code and related comments.\n",
        "\n",
        "***\n",
        "\n",
        "In the previous section we saw how to classify vector inputs into two mutually exclusive classes using a densely-connected neural network. But what happens when you have more than two classes? \n",
        "\n",
        "In this section, we will build a network to classify Reuters newswires into 46 different mutually-exclusive topics. Since we have many classes, this problem is an instance of \"multi-class classification\", and since each data point should be classified into only one category, the problem is more specifically an instance of \"single-label, multi-class classification\". If each data point could have belonged to multiple categories (in our case, topics) then we would be facing a \"multi-label, multi-class classification\" problem.\n",
        "\n",
        "## The Reuters dataset\n",
        "\n",
        "\n",
        "We will be working with the _Reuters dataset_, a set of short newswires and their topics, published by Reuters in 1986. It's a very simple, widely used toy dataset for text classification. There are 46 different topics; some topics are more represented than others, but each topic has at least 10 examples in the training set.\n",
        "\n",
        "Like IMDB and MNIST, the Reuters dataset comes packaged as part of Keras. Let's take a look right away:"
      ]
    },
    {
      "cell_type": "code",
      "metadata": {
        "id": "nwHjOi4pFuuB",
        "colab_type": "code",
        "outputId": "026552b0-4f8e-43b9-a3e8-793a81aa75ed",
        "colab": {
          "base_uri": "https://localhost:8080/",
          "height": 72
        }
      },
      "source": [
        "install.packages(\"keras\")"
      ],
      "execution_count": 0,
      "outputs": [
        {
          "output_type": "stream",
          "text": [
            "Installing package into ‘/usr/local/lib/R/site-library’\n",
            "(as ‘lib’ is unspecified)\n",
            "\n"
          ],
          "name": "stderr"
        }
      ]
    },
    {
      "cell_type": "code",
      "metadata": {
        "id": "nh_yI1CHNyTn",
        "colab_type": "code",
        "colab": {}
      },
      "source": [
        "## restart runtime after this if you encounter an error on reading reuters data.\n",
        "## https://teratail.com/questions/186503\n",
        "#system(\"pip install numpy==1.16.1\")"
      ],
      "execution_count": 0,
      "outputs": []
    },
    {
      "cell_type": "code",
      "metadata": {
        "id": "ppvLCCONDtLB",
        "colab_type": "code",
        "colab": {}
      },
      "source": [
        "library(keras)\n",
        "\n",
        "reuters <- dataset_reuters(num_words = 10000)\n",
        "c(c(train_data, train_labels), c(test_data, test_labels)) %<-% reuters"
      ],
      "execution_count": 0,
      "outputs": []
    },
    {
      "cell_type": "markdown",
      "metadata": {
        "id": "uUABhmG1DtLE",
        "colab_type": "text"
      },
      "source": [
        "Like with the IMDB dataset, the argument `num_words = 10000` restricts the data to the 10,000 most frequently occurring words found in the data.\n",
        "\n",
        "We have 8,982 training examples and 2,246 test examples:"
      ]
    },
    {
      "cell_type": "code",
      "metadata": {
        "id": "JJV882txDtLF",
        "colab_type": "code",
        "outputId": "6791efa9-6017-4aeb-eca8-57adfb438691",
        "colab": {
          "base_uri": "https://localhost:8080/",
          "height": 35
        }
      },
      "source": [
        "length(train_data)"
      ],
      "execution_count": 0,
      "outputs": [
        {
          "output_type": "display_data",
          "data": {
            "text/plain": [
              "[1] 8982"
            ],
            "text/latex": "8982",
            "text/markdown": "8982",
            "text/html": [
              "8982"
            ]
          },
          "metadata": {
            "tags": []
          }
        }
      ]
    },
    {
      "cell_type": "code",
      "metadata": {
        "id": "DxxSCnUfDtLG",
        "colab_type": "code",
        "outputId": "fe272e34-8964-45ee-ed4b-4903ae8c742f",
        "colab": {
          "base_uri": "https://localhost:8080/",
          "height": 35
        }
      },
      "source": [
        "length(test_data)"
      ],
      "execution_count": 0,
      "outputs": [
        {
          "output_type": "display_data",
          "data": {
            "text/plain": [
              "[1] 2246"
            ],
            "text/latex": "2246",
            "text/markdown": "2246",
            "text/html": [
              "2246"
            ]
          },
          "metadata": {
            "tags": []
          }
        }
      ]
    },
    {
      "cell_type": "markdown",
      "metadata": {
        "id": "cQEM81p-DtLI",
        "colab_type": "text"
      },
      "source": [
        "As with the IMDB reviews, each example is a list of integers (word indices):"
      ]
    },
    {
      "cell_type": "code",
      "metadata": {
        "id": "IwJ_M9X2DtLJ",
        "colab_type": "code",
        "outputId": "b9764235-0f75-4f4e-d57d-de1b9435b20f",
        "colab": {
          "base_uri": "https://localhost:8080/",
          "height": 1000
        }
      },
      "source": [
        "train_data[[1]]"
      ],
      "execution_count": 0,
      "outputs": [
        {
          "output_type": "display_data",
          "data": {
            "text/plain": [
              " [1]    1    2    2    8   43   10  447    5   25  207  270    5 3095  111   16\n",
              "[16]  369  186   90   67    7   89    5   19  102    6   19  124   15   90   67\n",
              "[31]   84   22  482   26    7   48    4   49    8  864   39  209  154    6  151\n",
              "[46]    6   83   11   15   22  155   11   15    7   48    9 4579 1005  504    6\n",
              "[61]  258    6  272   11   15   22  134   44   11   15   16    8  197 1245   90\n",
              "[76]   67   52   29  209   30   32  132    6  109   15   17   12"
            ],
            "text/latex": "\\begin{enumerate*}\n\\item 1\n\\item 2\n\\item 2\n\\item 8\n\\item 43\n\\item 10\n\\item 447\n\\item 5\n\\item 25\n\\item 207\n\\item 270\n\\item 5\n\\item 3095\n\\item 111\n\\item 16\n\\item 369\n\\item 186\n\\item 90\n\\item 67\n\\item 7\n\\item 89\n\\item 5\n\\item 19\n\\item 102\n\\item 6\n\\item 19\n\\item 124\n\\item 15\n\\item 90\n\\item 67\n\\item 84\n\\item 22\n\\item 482\n\\item 26\n\\item 7\n\\item 48\n\\item 4\n\\item 49\n\\item 8\n\\item 864\n\\item 39\n\\item 209\n\\item 154\n\\item 6\n\\item 151\n\\item 6\n\\item 83\n\\item 11\n\\item 15\n\\item 22\n\\item 155\n\\item 11\n\\item 15\n\\item 7\n\\item 48\n\\item 9\n\\item 4579\n\\item 1005\n\\item 504\n\\item 6\n\\item 258\n\\item 6\n\\item 272\n\\item 11\n\\item 15\n\\item 22\n\\item 134\n\\item 44\n\\item 11\n\\item 15\n\\item 16\n\\item 8\n\\item 197\n\\item 1245\n\\item 90\n\\item 67\n\\item 52\n\\item 29\n\\item 209\n\\item 30\n\\item 32\n\\item 132\n\\item 6\n\\item 109\n\\item 15\n\\item 17\n\\item 12\n\\end{enumerate*}\n",
            "text/markdown": "1. 1\n2. 2\n3. 2\n4. 8\n5. 43\n6. 10\n7. 447\n8. 5\n9. 25\n10. 207\n11. 270\n12. 5\n13. 3095\n14. 111\n15. 16\n16. 369\n17. 186\n18. 90\n19. 67\n20. 7\n21. 89\n22. 5\n23. 19\n24. 102\n25. 6\n26. 19\n27. 124\n28. 15\n29. 90\n30. 67\n31. 84\n32. 22\n33. 482\n34. 26\n35. 7\n36. 48\n37. 4\n38. 49\n39. 8\n40. 864\n41. 39\n42. 209\n43. 154\n44. 6\n45. 151\n46. 6\n47. 83\n48. 11\n49. 15\n50. 22\n51. 155\n52. 11\n53. 15\n54. 7\n55. 48\n56. 9\n57. 4579\n58. 1005\n59. 504\n60. 6\n61. 258\n62. 6\n63. 272\n64. 11\n65. 15\n66. 22\n67. 134\n68. 44\n69. 11\n70. 15\n71. 16\n72. 8\n73. 197\n74. 1245\n75. 90\n76. 67\n77. 52\n78. 29\n79. 209\n80. 30\n81. 32\n82. 132\n83. 6\n84. 109\n85. 15\n86. 17\n87. 12\n\n\n",
            "text/html": [
              "<ol class=list-inline>\n",
              "\t<li>1</li>\n",
              "\t<li>2</li>\n",
              "\t<li>2</li>\n",
              "\t<li>8</li>\n",
              "\t<li>43</li>\n",
              "\t<li>10</li>\n",
              "\t<li>447</li>\n",
              "\t<li>5</li>\n",
              "\t<li>25</li>\n",
              "\t<li>207</li>\n",
              "\t<li>270</li>\n",
              "\t<li>5</li>\n",
              "\t<li>3095</li>\n",
              "\t<li>111</li>\n",
              "\t<li>16</li>\n",
              "\t<li>369</li>\n",
              "\t<li>186</li>\n",
              "\t<li>90</li>\n",
              "\t<li>67</li>\n",
              "\t<li>7</li>\n",
              "\t<li>89</li>\n",
              "\t<li>5</li>\n",
              "\t<li>19</li>\n",
              "\t<li>102</li>\n",
              "\t<li>6</li>\n",
              "\t<li>19</li>\n",
              "\t<li>124</li>\n",
              "\t<li>15</li>\n",
              "\t<li>90</li>\n",
              "\t<li>67</li>\n",
              "\t<li>84</li>\n",
              "\t<li>22</li>\n",
              "\t<li>482</li>\n",
              "\t<li>26</li>\n",
              "\t<li>7</li>\n",
              "\t<li>48</li>\n",
              "\t<li>4</li>\n",
              "\t<li>49</li>\n",
              "\t<li>8</li>\n",
              "\t<li>864</li>\n",
              "\t<li>39</li>\n",
              "\t<li>209</li>\n",
              "\t<li>154</li>\n",
              "\t<li>6</li>\n",
              "\t<li>151</li>\n",
              "\t<li>6</li>\n",
              "\t<li>83</li>\n",
              "\t<li>11</li>\n",
              "\t<li>15</li>\n",
              "\t<li>22</li>\n",
              "\t<li>155</li>\n",
              "\t<li>11</li>\n",
              "\t<li>15</li>\n",
              "\t<li>7</li>\n",
              "\t<li>48</li>\n",
              "\t<li>9</li>\n",
              "\t<li>4579</li>\n",
              "\t<li>1005</li>\n",
              "\t<li>504</li>\n",
              "\t<li>6</li>\n",
              "\t<li>258</li>\n",
              "\t<li>6</li>\n",
              "\t<li>272</li>\n",
              "\t<li>11</li>\n",
              "\t<li>15</li>\n",
              "\t<li>22</li>\n",
              "\t<li>134</li>\n",
              "\t<li>44</li>\n",
              "\t<li>11</li>\n",
              "\t<li>15</li>\n",
              "\t<li>16</li>\n",
              "\t<li>8</li>\n",
              "\t<li>197</li>\n",
              "\t<li>1245</li>\n",
              "\t<li>90</li>\n",
              "\t<li>67</li>\n",
              "\t<li>52</li>\n",
              "\t<li>29</li>\n",
              "\t<li>209</li>\n",
              "\t<li>30</li>\n",
              "\t<li>32</li>\n",
              "\t<li>132</li>\n",
              "\t<li>6</li>\n",
              "\t<li>109</li>\n",
              "\t<li>15</li>\n",
              "\t<li>17</li>\n",
              "\t<li>12</li>\n",
              "</ol>\n"
            ]
          },
          "metadata": {
            "tags": []
          }
        }
      ]
    },
    {
      "cell_type": "markdown",
      "metadata": {
        "id": "1vVtlRy3DtLL",
        "colab_type": "text"
      },
      "source": [
        "Here's how you can decode it back to words, in case you are curious:"
      ]
    },
    {
      "cell_type": "code",
      "metadata": {
        "id": "eDoJu7VBDtLL",
        "colab_type": "code",
        "colab": {}
      },
      "source": [
        "word_index <- dataset_reuters_word_index()\n",
        "reverse_word_index <- names(word_index)\n",
        "names(reverse_word_index) <- word_index\n",
        "decoded_newswire <- sapply(train_data[[1]], function(index) {\n",
        "  # Note that our indices were offset by 3 because 0, 1, and 2\n",
        "  # are reserved indices for \"padding\", \"start of sequence\", and \"unknown\".\n",
        "  word <- if (index >= 3) reverse_word_index[[as.character(index - 3)]]\n",
        "  if (!is.null(word)) word else \"?\"\n",
        "})"
      ],
      "execution_count": 0,
      "outputs": []
    },
    {
      "cell_type": "code",
      "metadata": {
        "id": "CTp8u9XQDtLN",
        "colab_type": "code",
        "outputId": "6c08cc2a-9b20-43bb-824d-7f03891e2ff8",
        "colab": {
          "base_uri": "https://localhost:8080/",
          "height": 55
        }
      },
      "source": [
        "cat(decoded_newswire)"
      ],
      "execution_count": 0,
      "outputs": [
        {
          "output_type": "stream",
          "text": [
            "? ? ? said as a result of its december acquisition of space co it expects earnings per share in 1987 of 1 15 to 1 30 dlrs per share up from 70 cts in 1986 the company said pretax net should rise to nine to 10 mln dlrs from six mln dlrs in 1986 and rental operation revenues to 19 to 22 mln dlrs from 12 5 mln dlrs it said cash flow per share this year should be 2 50 to three dlrs reuter 3"
          ],
          "name": "stdout"
        }
      ]
    },
    {
      "cell_type": "markdown",
      "metadata": {
        "id": "hfs9LyP3DtLP",
        "colab_type": "text"
      },
      "source": [
        "The label associated with an example is an integer between 0 and 45: a topic index."
      ]
    },
    {
      "cell_type": "code",
      "metadata": {
        "id": "dBBPRXyMDtLQ",
        "colab_type": "code",
        "outputId": "6be73fe0-6cc6-46e0-b6a8-37d4556e37a9",
        "colab": {
          "base_uri": "https://localhost:8080/",
          "height": 35
        }
      },
      "source": [
        "train_labels[[1]]"
      ],
      "execution_count": 0,
      "outputs": [
        {
          "output_type": "display_data",
          "data": {
            "text/plain": [
              "[1] 3"
            ],
            "text/latex": "3",
            "text/markdown": "3",
            "text/html": [
              "3"
            ]
          },
          "metadata": {
            "tags": []
          }
        }
      ]
    },
    {
      "cell_type": "markdown",
      "metadata": {
        "id": "GiRcH7DGDtLR",
        "colab_type": "text"
      },
      "source": [
        "## Preparing the data\n",
        "\n",
        "We can vectorize the data with the exact same code as in our previous example:"
      ]
    },
    {
      "cell_type": "code",
      "metadata": {
        "id": "q6HaydslDtLS",
        "colab_type": "code",
        "colab": {}
      },
      "source": [
        "vectorize_sequences <- function(sequences, dimension = 10000) {\n",
        "  results <- matrix(0, nrow = length(sequences), ncol = dimension)\n",
        "  for (i in 1:length(sequences))\n",
        "    results[i, sequences[[i]]] <- 1\n",
        "  results\n",
        "}\n",
        "\n",
        "x_train <- vectorize_sequences(train_data)\n",
        "x_test <- vectorize_sequences(test_data)"
      ],
      "execution_count": 0,
      "outputs": []
    },
    {
      "cell_type": "markdown",
      "metadata": {
        "id": "6D77SraJDtLV",
        "colab_type": "text"
      },
      "source": [
        "To vectorize the labels, there are two possibilities: we could just cast the label list as an integer tensor, or we could use a \"one-hot\" encoding. One-hot encoding is a widely used format for categorical data, also called \"categorical encoding\". For a more detailed explanation of one-hot encoding, you can refer to Chapter 6, Section 1. In our case, one-hot encoding of our labels consists in embedding each label as an all-zero vector with a 1 in the place of the label index, e.g.:"
      ]
    },
    {
      "cell_type": "code",
      "metadata": {
        "id": "sphd3ymRDtLV",
        "colab_type": "code",
        "colab": {}
      },
      "source": [
        "to_one_hot <- function(labels, dimension = 46) {\n",
        "  results <- matrix(0, nrow = length(labels), ncol = dimension)\n",
        "  for (i in 1:length(labels))\n",
        "    results[i, labels[[i]] + 1] <- 1\n",
        "  results\n",
        "}\n",
        "\n",
        "one_hot_train_labels <- to_one_hot(train_labels)\n",
        "one_hot_test_labels <- to_one_hot(test_labels)"
      ],
      "execution_count": 0,
      "outputs": []
    },
    {
      "cell_type": "markdown",
      "metadata": {
        "id": "hmkzk8WrDtLY",
        "colab_type": "text"
      },
      "source": [
        "Note that there is a built-in way to do this in Keras, which you have already seen in action in our MNIST example:"
      ]
    },
    {
      "cell_type": "code",
      "metadata": {
        "id": "icfOSLxhDtLZ",
        "colab_type": "code",
        "colab": {}
      },
      "source": [
        "one_hot_train_labels <- to_categorical(train_labels)\n",
        "one_hot_test_labels <- to_categorical(test_labels)"
      ],
      "execution_count": 0,
      "outputs": []
    },
    {
      "cell_type": "markdown",
      "metadata": {
        "id": "8VCuoHHIDtLa",
        "colab_type": "text"
      },
      "source": [
        "## Building our network\n",
        "\n",
        "\n",
        "This topic classification problem looks very similar to our previous movie review classification problem: in both cases, we are trying to classify short snippets of text. There is however a new constraint here: the number of output classes has gone from 2 to 46, i.e. the dimensionality of the output space is much larger. \n",
        "\n",
        "In a stack of dense layers like what we were using, each layer can only access information present in the output of the previous layer. If one layer drops some information relevant to the classification problem, this information can never be recovered by later layers: each layer can potentially become an \"information bottleneck\". In our previous example, we were using 16-dimensional intermediate layers, but a 16-dimensional space may be too limited to learn to separate 46 different classes: such small layers may act as information bottlenecks, permanently dropping relevant information.\n",
        "\n",
        "For this reason we will use larger layers. Let's go with 64 units:"
      ]
    },
    {
      "cell_type": "code",
      "metadata": {
        "id": "lDjFrEf8DtLb",
        "colab_type": "code",
        "colab": {}
      },
      "source": [
        "model <- keras_model_sequential() %>% \n",
        "  layer_dense(units = 4, activation = \"relu\", input_shape = c(10000)) %>% \n",
        "  #layer_dense(units = 64, activation = \"relu\") %>% \n",
        "  layer_dense(units = 46, activation = \"softmax\")"
      ],
      "execution_count": 0,
      "outputs": []
    },
    {
      "cell_type": "markdown",
      "metadata": {
        "id": "nXVlsVXYDtLd",
        "colab_type": "text"
      },
      "source": [
        "There are two other things you should note about this architecture:\n",
        "\n",
        "* You end the network with a dense layer of size 46. This means for each input sample, the network will output a 46-dimensional vector. Each entry in this vector (each dimension) will encode a different output class.\n",
        "\n",
        "* The last layer uses a `softmax` activation. You saw this pattern in the MNIST example. It means the network will  output a _probability distribution_ over the 46 different output classes: that is,  for every input sample, the network will produce a 46-dimensional output vector, where `output[[i]]` is the probability that the sample belongs to class `i`. The 46 scores will sum to 1.\n",
        "\n",
        "\n",
        "The best loss function to use in this case is `categorical_crossentropy`. It measures the distance between two probability distributions: in our case, between the probability distribution output by our network, and the true distribution of the labels. By minimizing the distance between these two distributions, we train our network to output something as close as possible to the true labels."
      ]
    },
    {
      "cell_type": "code",
      "metadata": {
        "id": "Rgcger-sDtLe",
        "colab_type": "code",
        "colab": {}
      },
      "source": [
        "model %>% compile(\n",
        "  optimizer = \"rmsprop\",\n",
        "  loss = \"categorical_crossentropy\",\n",
        "  metrics = c(\"accuracy\")\n",
        ")"
      ],
      "execution_count": 0,
      "outputs": []
    },
    {
      "cell_type": "markdown",
      "metadata": {
        "id": "jOh3je6TDtLf",
        "colab_type": "text"
      },
      "source": [
        "## Validating our approach\n",
        "\n",
        "Let's set apart 1,000 samples in our training data to use as a validation set:"
      ]
    },
    {
      "cell_type": "code",
      "metadata": {
        "id": "qU_peWgyDtLg",
        "colab_type": "code",
        "colab": {}
      },
      "source": [
        "val_indices <- 1:1000\n",
        "\n",
        "x_val <- x_train[val_indices,]\n",
        "partial_x_train <- x_train[-val_indices,]\n",
        "\n",
        "y_val <- one_hot_train_labels[val_indices,]\n",
        "partial_y_train = one_hot_train_labels[-val_indices,]"
      ],
      "execution_count": 0,
      "outputs": []
    },
    {
      "cell_type": "markdown",
      "metadata": {
        "id": "gIPKY_gJDtLh",
        "colab_type": "text"
      },
      "source": [
        "Now let's train our network for 20 epochs:"
      ]
    },
    {
      "cell_type": "code",
      "metadata": {
        "id": "4MfK2NNtDtLi",
        "colab_type": "code",
        "colab": {}
      },
      "source": [
        "history <- model %>% fit(\n",
        "  partial_x_train,\n",
        "  partial_y_train,\n",
        "  epochs = 60,\n",
        "  batch_size = 512,\n",
        "  validation_data = list(x_val, y_val)\n",
        ")\n",
        "results <- model %>% evaluate(x_test, one_hot_test_labels)"
      ],
      "execution_count": 0,
      "outputs": []
    },
    {
      "cell_type": "code",
      "metadata": {
        "id": "CXfipm4-GOs5",
        "colab_type": "code",
        "outputId": "d95741c8-150f-4c7b-f0c5-694bf3310494",
        "colab": {
          "base_uri": "https://localhost:8080/",
          "height": 114
        }
      },
      "source": [
        "results"
      ],
      "execution_count": 0,
      "outputs": [
        {
          "output_type": "display_data",
          "data": {
            "text/plain": [
              "$loss\n",
              "[1] 1.332606\n",
              "\n",
              "$acc\n",
              "[1] 0.6963491\n"
            ],
            "text/latex": "\\begin{description}\n\\item[\\$loss] 1.33260562668288\n\\item[\\$acc] 0.696349084377289\n\\end{description}\n",
            "text/markdown": "$loss\n:   1.33260562668288\n$acc\n:   0.696349084377289\n\n\n",
            "text/html": [
              "<dl>\n",
              "\t<dt>$loss</dt>\n",
              "\t\t<dd>1.33260562668288</dd>\n",
              "\t<dt>$acc</dt>\n",
              "\t\t<dd>0.696349084377289</dd>\n",
              "</dl>\n"
            ]
          },
          "metadata": {
            "tags": []
          }
        }
      ]
    },
    {
      "cell_type": "markdown",
      "metadata": {
        "id": "ON0-F3TiDtLk",
        "colab_type": "text"
      },
      "source": [
        "Let's display its loss and accuracy curves:"
      ]
    },
    {
      "cell_type": "code",
      "metadata": {
        "id": "kvFUU7EqDtLl",
        "colab_type": "code",
        "outputId": "bca0e687-7d2d-46a4-fe64-a655cc57a54c",
        "colab": {
          "base_uri": "https://localhost:8080/",
          "height": 437
        }
      },
      "source": [
        "plot(history)"
      ],
      "execution_count": 0,
      "outputs": [
        {
          "output_type": "display_data",
          "data": {
            "image/png": "[encoded data removed]",
            "text/plain": [
              "plot without title"
            ]
          },
          "metadata": {
            "tags": [],
            "image/png": {
              "width": 420,
              "height": 420
            },
            "text/plain": {
              "width": 420,
              "height": 420
            }
          }
        }
      ]
    }
  ]
}